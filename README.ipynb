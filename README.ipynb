{
 "cells": [
  {
   "cell_type": "markdown",
   "metadata": {},
   "source": [
    "# Como configurar/instalar/usar o `Buscar palavra-chave` no `Linux Ubuntu`\n",
    "\n",
    "## Resumo\n",
    "\n",
    "Neste documento estão contidos os principais comandos e configurações para configurar/instalar/usar o `buscar palavra-chave em arquivo` no `Linux Ubuntu`.\n",
    "\n",
    "## _Abstract_\n",
    "\n",
    "_This document contains the main commands and settings for configuring/installing/using the `search for keyword in file` on `Linux Ubuntu`._\n"
   ]
  },
  {
   "cell_type": "markdown",
   "metadata": {},
   "source": [
    "## Descrição [2]\n",
    "\n",
    "### `palavra-chave`\n",
    "\n",
    "Uma palavra-chave é um termo ou expressão que representa um conceito central em um determinado contexto, como programação, marketing ou pesquisa. No âmbito da programação, palavras-chave são identificadores reservados que têm um significado específico na linguagem, como `if`, `else`, `for` e `function`, e não podem ser usados como nomes de variáveis ou funções. Em marketing digital e SEO, palavras-chave são os termos que os usuários digitam em mecanismos de busca e são fundamentais para otimizar conteúdos e aumentar a visibilidade online. Assim, as palavras-chave desempenham um papel crucial na comunicação, programação e busca de informações.\n"
   ]
  },
  {
   "cell_type": "markdown",
   "metadata": {},
   "source": [
    "## 1. Como configurar/instalar/usar o `Buscar palavra-chave em arquivo` no `Linux Ubuntu` [1][3]\n",
    "\n",
    "Para configurar/instalar/usar o `Buscar palavra-chave em arquivo` no `Linux Ubuntu`, você pode seguir estes passos:\n",
    "\n",
    "1. Abra o `Terminal Emulator`. Você pode fazer isso pressionando: `Ctrl + Alt + T`"
   ]
  },
  {
   "cell_type": "markdown",
   "metadata": {},
   "source": [
    "2. Certifique-se de que seu sistema esteja limpo e atualizado.\n",
    "\n",
    "    2.1 **Limpar o `cache` do gerenciador de pacotes `apt`**: Especificamente, ele remove todos os arquivos de pacotes (`.deb`) baixados pelo `apt` e armazenados em `/var/cache/apt/archives/`. Digite o seguinte comando: `sudo apt clean` \n",
    "    \n",
    "    2.2 **Remover pacotes `.deb` antigos ou duplicados do `cache` local**: É útil para liberar espaço, pois remove apenas os pacotes que não podem mais ser baixados (ou seja, versões antigas de pacotes que foram atualizados). Digite o seguinte comando: `sudo apt autoclean`\n",
    "\n",
    "    2.3 **Remover pacotes que foram automaticamente instalados para satisfazer as dependências de outros pacotes e que não são mais necessários**: Digite o seguinte comando: `sudo apt autoremove -y`\n",
    "\n",
    "    2.4 **Buscar as atualizações disponíveis para os pacotes que estão instalados em seu sistema**: Digite o seguinte comando e pressione `Enter`: `sudo apt update`\n",
    "\n",
    "    2.5 **Corrigir pacotes quebrados**: Isso atualizará a lista de pacotes disponíveis e tentará corrigir pacotes quebrados ou com dependências ausentes: `sudo apt --fix-broken install`\n",
    "\n",
    "    2.6 **Limpar o `cache` do gerenciador de pacotes `apt`**: Especificamente, ele remove todos os arquivos de pacotes (`.deb`) baixados pelo `apt` e armazenados em `/var/cache/apt/archives/`. Digite o seguinte comando: `sudo apt clean` \n",
    "    \n",
    "    2.7 **Para ver a lista de pacotes a serem atualizados**: Digite o seguinte comando e pressione `Enter`:  `sudo apt list --upgradable`\n",
    "\n",
    "    2.8 **Realmente atualizar os pacotes instalados para as suas versões mais recentes, com base na última vez que você executou `sudo apt update`**: Digite o seguinte comando e pressione `Enter`: `sudo apt full-upgrade -y`\n",
    "   "
   ]
  },
  {
   "cell_type": "markdown",
   "metadata": {},
   "source": [
    "Para procurar uma palavra-chave ou texto em arquivos no seu sistema `Linux` (`Ubuntu` ou outras distribuições), você pode usar o comando `grep`. Aqui estão algumas maneiras de usar o grep para fazer isso:\n",
    "\n",
    "1. **Procurar em um arquivo específico**: Isso vai procurar a palavra no arquivo especificado:\n",
    "\n",
    "    ```\n",
    "    sudo grep \"palavra-chave\" nome_do_arquivo\n",
    "    ```\n",
    "\n",
    "2. **Procurar em múltiplos arquivos**: Isso permite procurar a palavra em mais de um arquivo ao mesmo tempo:\n",
    "\n",
    "    ```\n",
    "    sudo grep \"palavra-chave\" arquivo1 arquivo2 arquivo3\n",
    "    ```\n",
    "\n",
    "3. **Procurar recursivamente em um diretório**: Se você deseja procurar por uma palavra em todos os arquivos dentro de um diretório e seus subdiretórios:\n",
    "\n",
    "    ```\n",
    "    sudo grep -r \"palavra-chave\" /caminho/do/diretório\n",
    "    ```\n",
    "\n",
    "4. **Procurar apenas arquivos que correspondem ao texto**: Caso queira que a busca seja recursiva e ver apenas o nome dos arquivos que contêm a palavra procurada, use a opção `-l`:\n",
    "\n",
    "    ```\n",
    "    sudo grep -rl \"palavra-chave\" /caminho/do/diretório\n",
    "    ```\n",
    "\n",
    "5. **Ignorar a diferenciação entre maiúsculas e minúsculas**: Se você deseja que a busca seja recursível e insensível a maiúsculas/minúsculas, adicione a opção `-i`:\n",
    "\n",
    "    ```\n",
    "    sudo grep -ri \"palavra-chave\" /caminho/do/diretório\n",
    "    ```\n",
    "\n",
    "6. **Mostrar número das linhas**: Para exibir o número da linha onde a palavra foi encontrada:\n",
    "\n",
    "    ```\n",
    "    sudo grep -n \"palavra-chave\" nome_do_arquivo\n",
    "    ```\n",
    "\n",
    "Essas são formas comuns de usar o `grep` para buscar palavras no seu sistema."
   ]
  },
  {
   "cell_type": "markdown",
   "metadata": {
    "vscode": {
     "languageId": "plaintext"
    }
   },
   "source": [
    "### 1.1 Código completo para configurar/instalar/usar\n",
    "\n",
    "Para configurar/instalar/usar o `Linux Cheat Sheet` no `Linux Ubuntu` sem precisar digitar linha por linha, você pode seguir estas etapas:\n",
    "\n",
    "1. Abra o `Terminal Emulator`. Você pode fazer isso pressionando: `Ctrl + Alt + T`\n",
    "\n",
    "2. Digite o seguinte comando e pressione `Enter`:\n",
    "\n",
    "    ```\n",
    "    NÃO há.\n",
    "    ```\n"
   ]
  },
  {
   "cell_type": "markdown",
   "metadata": {},
   "source": [
    "## 17. Linux Cheat Sheet Aliases\n",
    "\n",
    "```bash\n",
    "# =========================\n",
    "#  Linux Cheat Sheet Aliases\n",
    "# =========================\n",
    "\n",
    "# ---- Atualização e Limpeza do Sistema ----\n",
    "alias update='sudo apt update && sudo apt list --upgradable && sudo apt full-upgrade -y'\n",
    "alias cleanapt='sudo apt clean && sudo apt autoclean && sudo apt autoremove -y'\n",
    "\n",
    "# ---- Navegação Rápida ----\n",
    "alias home='cd ~'\n",
    "alias docs='cd ~/Documents'\n",
    "alias desk='cd ~/Desktop'\n",
    "\n",
    "# ---- Listagem de Arquivos e Pastas ----\n",
    "alias ll='ls -alF --color=auto'\n",
    "alias la='ls -A --color=auto'\n",
    "alias l='ls -CF --color=auto'\n",
    "\n",
    "# ---- Busca e Inspeção ----\n",
    "alias grep='grep --color=auto'\n",
    "alias finddir='find . -type d -name'\n",
    "alias findfile='find . -type f -name'\n",
    "\n",
    "# ---- Monitoramento de Sistema ----\n",
    "alias meminfo='free -h'\n",
    "alias cpuinfo='lscpu'\n",
    "alias diskuse='df -h'\n",
    "alias proc='ps aux --sort=-%mem | head'\n",
    "alias topcpu='ps -eo pid,ppid,cmd,%mem,%cpu --sort=-%cpu | head'\n",
    "\n",
    "# ---- Rede ----\n",
    "alias myip='hostname -I'\n",
    "alias pingg='ping google.com'\n",
    "alias netlisten='netstat -pntlu'\n",
    "\n",
    "# ---- Transferência de Arquivos ----\n",
    "alias scpup='scp'\n",
    "alias rsyncup='rsync -avz'\n",
    "\n",
    "# ---- Informações de Hardware ----\n",
    "alias usbinfo='lsusb'\n",
    "alias pciinfo='lspci'\n",
    "alias diskinfo='lsblk'\n",
    "alias cpumodel='cat /proc/cpuinfo | grep \"model name\" | uniq'\n",
    "\n",
    "# ---- Processos ----\n",
    "alias killpid='kill -9'\n",
    "alias psgrep='ps aux | grep -i'\n",
    "\n",
    "# ---- Uso de Disco ----\n",
    "alias diskfree='df -h'\n",
    "alias diskdu='du -sh * 2>/dev/null'\n",
    "\n",
    "# ---- Segurança ----\n",
    "alias sshcon='ssh'\n",
    "alias sftpcon='sftp'\n",
    "```\n"
   ]
  },
  {
   "cell_type": "markdown",
   "metadata": {
    "vscode": {
     "languageId": "plaintext"
    }
   },
   "source": [
    "## Referências\n",
    "\n",
    "[1] OPENAI. ***Buscar palavra-chave em arquivo.*** Disponível em: <https://chatgpt.com/c/66e99b91-aa6c-8002-9401-ccd319b980e3> (texto adaptado). Acessado em: 17/09/2024 15:35.\n",
    "\n",
    "[2] OPENAI. ***Vs code: editor popular.*** Disponível em: <https://chat.openai.com/c/b640a25d-f8e3-4922-8a3b-ed74a2657e42> (texto adaptado). Acessado em: 17/09/2024 15:35.\n"
   ]
  }
 ],
 "metadata": {
  "kernelspec": {
   "display_name": "Python 3",
   "language": "python",
   "name": "python3"
  },
  "language_info": {
   "codemirror_mode": {
    "name": "ipython",
    "version": 3
   },
   "file_extension": ".py",
   "mimetype": "text/x-python",
   "name": "python",
   "nbconvert_exporter": "python",
   "pygments_lexer": "ipython3",
   "version": "3.11.8"
  },
  "orig_nbformat": 4
 },
 "nbformat": 4,
 "nbformat_minor": 2
}