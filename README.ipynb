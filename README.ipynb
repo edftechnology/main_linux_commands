{
 "cells": [
  {
   "cell_type": "markdown",
   "metadata": {},
   "source": [
    "# Como configurar/instalar/usar o `Linux Cheat Sheet` no `Linux Ubuntu`\n",
    "\n",
    "## Resumo\n",
    "\n",
    "Neste documento estão contidos os principais comandos e configurações para configurar/instalar/usar o `Linux Cheat Sheet` no `Linux Ubuntu`.\n",
    "\n",
    "## _Abstract_\n",
    "\n",
    "_This document contains the main commands and settings for configuring/installing/using the `Linux Cheat Sheet` on `Linux Ubuntu`._\n"
   ]
  },
  {
   "cell_type": "markdown",
   "metadata": {},
   "source": [
    "## Descrição [2]\n",
    "\n",
    "### `Linux Cheat Sheet`\n",
    "\n",
    "O \"Linux Cheat Sheet\" é um recurso prático e conciso que oferece uma rápida referência aos comandos e atalhos mais comuns do sistema operacional Linux. Organizado de forma clara e acessível, geralmente em formato de tabela ou lista, este documento é amplamente utilizado por administradores de sistemas, desenvolvedores e usuários do Linux para agilizar tarefas, solucionar problemas e melhorar a eficiência na linha de comando.\n"
   ]
  },
  {
   "cell_type": "markdown",
   "metadata": {},
   "source": [
    "## 1. Como configurar/instalar/usar o `Linux Cheat Sheet` no `Linux Ubuntu` [1][3]\n",
    "\n",
    "Para configurar/instalar/usar o `Linux Cheat Sheet` no `Linux Ubuntu`, você pode seguir estes passos:\n",
    "\n",
    "1. Abra o `Terminal Emulator`. Você pode fazer isso pressionando: `Ctrl + Alt + T`"
   ]
  },
  {
   "cell_type": "markdown",
   "metadata": {},
   "source": [
    "2. Certifique-se de que seu sistema esteja limpo e atualizado.\n",
    "\n",
    "    2.1 Limpar o `cache` do gerenciador de pacotes APT. Especificamente, ele remove todos os arquivos de pacotes (`.deb`) baixados pelo APT e armazenados em `/var/cache/apt/archives/`. Digite o seguinte comando: `sudo apt clean` \n",
    "    \n",
    "    2.2 Remover pacotes `.deb` antigos ou duplicados do cache local. É útil para liberar espaço, pois remove apenas os pacotes que não podem mais ser baixados (ou seja, versões antigas de pacotes que foram atualizados). Digite o seguinte comando: `sudo apt autoclean`\n",
    "\n",
    "    2.3 Remover pacotes que foram automaticamente instalados para satisfazer as dependências de outros pacotes e que não são mais necessários. Digite o seguinte comando: `sudo apt autoremove -y`\n",
    "\n",
    "    2.4 Buscar as atualizações disponíveis para os pacotes que estão instalados em seu sistema. Digite o seguinte comando e pressione `Enter`: `sudo apt update -y`\n",
    "\n",
    "    2.5 Para ver a lista de pacotes a serem atualizados, digite o seguinte comando e pressione `Enter`:  `sudo apt list --upgradable`\n",
    "\n",
    "    2.6 Realmente atualizar os pacotes instalados para as suas versões mais recentes, com base na última vez que você executou `sudo apt update -y`. Digite o seguinte comando e pressione `Enter`: `sudo apt full-upgrade -y`\n",
    "\n",
    "    2.7 Remover pacotes que foram automaticamente instalados para satisfazer as dependências de outros pacotes e que não são mais necessários. Digite o seguinte comando: `sudo apt autoremove -y`\n",
    "\n",
    "    2.8 Remover pacotes `.deb` antigos ou duplicados do cache local. É útil para liberar espaço, pois remove apenas os pacotes que não podem mais ser baixados (ou seja, versões antigas de pacotes que foram atualizados). Digite o seguinte comando: `sudo apt autoclean`"
   ]
  },
  {
   "cell_type": "markdown",
   "metadata": {},
   "source": [
    "| Comando   | Descrição                                                    |\n",
    "|:---------:|:-------------------------------------------------------------|\n",
    "| `cd`      | Alterar diretório                                            |\n",
    "| `rmdir`   | Remover um diretório vazio                                   |\n",
    "| `tail`    | Exibir as últimas linhas de um arquivo                       |\n",
    "| `chmod`   | Alterar permissões de arquivos e diretórios                  |\n",
    "| `umount`  | Desmontar um sistema de arquivos                             |\n",
    "| `ls`      | Listar conteúdo do diretório                                 |\n",
    "| `cut`     | Recortar seções de um arquivo                                |\n",
    "| `sort`    | Ordenar linhas de um arquivo                                 |\n",
    "| `chown`   | Alterar o proprietário de um arquivo ou diretório            |\n",
    "| `ping`    | Testar conectividade com um host de rede                     |\n",
    "| `pwd`     | Imprimir diretório de trabalho                               |\n",
    "| `gzip`    | Comprimir ou descomprimir arquivos usando gzip               |\n",
    "| `uniq`    | Remover linhas duplicadas                                    |\n",
    "| `chgrp`   | Alterar o grupo de propriedade de um arquivo ou diretório    |\n",
    "| `ssh`     | Conexão remota segura e execução de comando                  |\n",
    "| `cat`     | Concatenar e exibir arquivos                                 |\n",
    "| `gunzip`  | Descomprimir arquivos comprimidos com gzip                   |\n",
    "| `ps`      | Listar processos em execução                                 |\n",
    "| `scp`     | Copiar arquivos de forma segura entre hosts                  |\n",
    "| `rsync`   | Sincronização remota de arquivos e diretórios                |\n",
    "| `touch`   | Criar um arquivo vazio                                       |\n",
    "| `find`    | Encontrar arquivos e diretórios que correspondam a um padrão |\n",
    "| `grep`    | Buscar por um padrão em um arquivo                           |\n",
    "| `top`     | Exibir informações de uso do sistema e processos             |\n",
    "| `kill`    | Enviar um sinal para terminar um processo                    |\n",
    "| `cp`      | Copiar arquivos e diretórios                                 |\n",
    "| `awk`     | Análise e processamento de padrões                           |\n",
    "| `wc`      | Contar linhas, palavras e caracteres em um arquivo           |\n",
    "| `du`      | Exibir uso de disco de arquivos e diretórios                 |\n",
    "| `wget`    | Recuperar arquivos da internet usando protocolos de rede     |\n",
    "| `mv`      | Mover ou renomear arquivos e diretórios                      |\n",
    "| `sed`     | Editor de fluxo para filtrar e transformar texto             |\n",
    "| `diff`    | Comparar dois arquivos linha por linha                       |\n",
    "| `df`      | Exibir espaço livre em disco no sistema de arquivos          |\n",
    "| `ftp`     | Cliente de Protocolo de Transferência de Arquivos            |\n",
    "| `rm`      | Remover arquivos e diretórios                                |\n",
    "| `head`    | Exibir as primeiras linhas de um arquivo                     |\n",
    "| `patch`   | Aplicar um patch a um arquivo                                |\n",
    "| `mount`   | Montar um sistema de arquivos                                |\n",
    "| `sftp`    | Cliente de Protocolo de Transferência de Arquivos Seguro     |\n"
   ]
  },
  {
   "cell_type": "markdown",
   "metadata": {
    "vscode": {
     "languageId": "plaintext"
    }
   },
   "source": [
    "### 1.1 Código completo para configurar/instalar/usar\n",
    "\n",
    "Para configurar/instalar/usar o `Linux Cheat Sheet` no `Linux Ubuntu` sem precisar digitar linha por linha, você pode seguir estas etapas:\n",
    "\n",
    "1. Abra o terminal. Você pode fazer isso pressionando: `Ctrl + Alt + T`\n",
    "\n",
    "2. Digite o seguinte comando e pressione `Enter`:\n",
    "\n",
    "    ```\n",
    "    NÃO há.\n",
    "    ```\n"
   ]
  },
  {
   "cell_type": "markdown",
   "metadata": {
    "vscode": {
     "languageId": "plaintext"
    }
   },
   "source": [
    "## 2. Rede\n",
    "\n",
    "| Comando        | Descrição em Inglês                 | Descrição em Português                      |\n",
    "|----------------|-------------------------------------|---------------------------------------------|\n",
    "| `dig -x [ip]`  | IP address reverse lookup          | Consulta reversa de endereço IP             |\n",
    "| `dig -x [host]`| Domain reverse lookup              | Consulta reversa de domínio                 |\n",
    "| `dig [domain]` | Show domain's DNS info             | Mostrar informações de DNS do domínio       |\n",
    "| `get [file]`   | Download a file from remote to local| Baixar um arquivo de remoto para local     |\n",
    "| `host [domain]`| IP lookup for a domain             | Consulta de IP para um domínio              |\n",
    "| `curl -O [file_url]`| Download a file from url      | Baixar um arquivo de uma URL                |\n",
    "| `ifconfig`     | Show all network interfaces        | Mostrar todas as interfaces de rede         |\n",
    "| `ip addr show` | Show IP addresses                  | Mostrar endereços IP                        |\n",
    "| `ip address add [ip]`| Assign IP address to interface| Atribuir endereço IP à interface            |\n",
    "| `netstat -pntlu`| Show active listening ports       | Mostrar portas ativas de escuta             |\n",
    "| `nslookup [domain]`| Network information            | Informação de rede                          |\n",
    "| `ping [hostname]`| Check network status             | Verificar status da rede                    |\n",
    "| `put [file]`   | Upload file from local to remote computer| Enviar arquivo de local para remoto     |\n",
    "| `quit`         | Logout                             | Sair                                         |\n",
    "| `wget [file_url]`| Download a file from url         | Baixar um arquivo de uma URL                |\n",
    "| `whois [domain]`| Show domain information           | Mostrar informações do domínio              |\n"
   ]
  },
  {
   "cell_type": "markdown",
   "metadata": {
    "vscode": {
     "languageId": "plaintext"
    }
   },
   "source": [
    "## 3. Comandos de usuários e grupos\n",
    "\n",
    "| Comando         | Descrição em Inglês            | Descrição em Português                 |\n",
    "|-----------------|--------------------------------|----------------------------------------|\n",
    "| `adduser [user]`| Add a new user                 | Adicionar um novo usuário              |\n",
    "| `chgrp [group] [directory]`| Change directory group | Mudar grupo de diretório          |\n",
    "| `groupadd [group]`| Add a new group              | Adicionar um novo grupo                |\n",
    "| `id`            | Show active user details       | Mostrar detalhes do usuário ativo      |\n",
    "| `last`          | Show last system logins        | Mostrar últimas entradas no sistema    |\n",
    "| `passwd [username]`| Change the password for the user | Mudar a senha do usuário        |\n",
    "| `userdel [user]`| Delete a user                  | Excluir um usuário                     |\n",
    "| `usermod`       | Modify user information        | Modificar informações de um usuário    |\n",
    "| `usermod -aG [group] [user]` | Add user to group | Adicionar usuário a um grupo         |\n",
    "| `w`             | Show logged users and activity | Mostrar usuários logados e atividade   |\n",
    "| `who`           | Show who is logged in          | Mostrar quem está logado               |\n"
   ]
  },
  {
   "cell_type": "markdown",
   "metadata": {
    "vscode": {
     "languageId": "plaintext"
    }
   },
   "source": [
    "## 4. Comandos de Navegação de Diretórios\n",
    "\n",
    "| Comando         | Descrição em Inglês             | Descrição em Português                |\n",
    "|-----------------|---------------------------------|---------------------------------------|\n",
    "| `cd`            | Move up one level               | Subir um nível                        |\n",
    "| `cd`            | Change directory to $HOME       | Mudar diretório para o $HOME          |\n",
    "| `cd [location]` | Change to specified directory   | Mudar para o diretório especificado   |\n"
   ]
  },
  {
   "cell_type": "markdown",
   "metadata": {
    "vscode": {
     "languageId": "plaintext"
    }
   },
   "source": [
    "## 5. Informações de Hardware\n",
    "\n",
    "| Comando          | Descrição em Inglês               | Descrição em Português                  |\n",
    "|------------------|-----------------------------------|-----------------------------------------|\n",
    "| `cat /proc/cpuinfo`| Show CPU information            | Mostrar informações da CPU              |\n",
    "| `dmesg`          | Show bootup messages              | Mostrar mensagens de inicialização      |\n",
    "| `dmidecode`      | Show BIOS hardware info           | Mostrar informações de hardware da BIOS |\n",
    "| `free -h`        | Show free and used memory         | Mostrar memória livre e usada           |\n",
    "| `lsblk`          | Block devices info                | Informações de dispositivos de bloco    |\n",
    "| `lshw`           | Hardware configuration info       | Informações de configuração de hardware |\n",
    "| `lsusb -tv`      | Tree-diagram of USB devices       | Diagrama em árvore dos dispositivos USB |\n",
    "| `neofetch`       | Display OS & hardware info        | Mostrar informações do SO e hardware    |\n",
    "| `hdparm -i /dev/[disk]`| Show disk data info         | Mostrar informações de dados do disco   |\n",
    "| `hdparm -Tt /dev/[disk]`| Disk read speed test       | Teste de velocidade de leitura do disco |\n",
    "| `badblocks -s /dev/[disk]`| Unreadable blocks test   | Teste de blocos ilegíveis               |\n"
   ]
  },
  {
   "cell_type": "markdown",
   "metadata": {
    "vscode": {
     "languageId": "plaintext"
    }
   },
   "source": [
    "## 6. Compressão de Arquivos\n",
    "\n",
    "| Comando               | Descrição em Inglês                 | Descrição em Português                  |\n",
    "|-----------------------|-------------------------------------|-----------------------------------------|\n",
    "| `gzip [file]`         | Create a gz compressed file         | Criar um arquivo comprimido gz          |\n",
    "| `tar xf [file.tar]`   | Extract archived file               | Extrair arquivo arquivado               |\n",
    "| `zip`/`unzip`         | Package & compress files            | Empacotar e comprimir arquivos          |\n",
    "| `tar cf [file.tar] [file]`| Create a tar file from a file  | Criar um arquivo tar a partir de um arquivo|\n",
    "| `tar czf [file.tar.gz]`| Create a gzip tar file            | Criar um arquivo tar gzip               |\n"
   ]
  },
  {
   "cell_type": "markdown",
   "metadata": {},
   "source": [
    "## 7. Instalação de Pacotes\n",
    "\n",
    "| Comando                     | Descrição em Inglês                    | Descrição em Português                             |\n",
    "|-----------------------------|----------------------------------------|----------------------------------------------------|\n",
    "| `apt-get`                   | Search for and install software packages | Pesquisar e instalar pacotes de software          |\n",
    "| `apt install [package]`     | Install a package with APT              | Instalar um pacote com APT                         |\n",
    "| `dnf install [package.rpm]` | Install a package with DNF              | Instalar um pacote com DNF                         |\n",
    "| `rpm -e [package.rpm]`      | Remove an rpm package                   | Remover um pacote rpm                              |\n",
    "| `rpm -ivh [package.rpm]`    | Install a local rpm package             | Instalar um pacote rpm local                       |\n",
    "| `yum info [package]`        | Package info & summary                  | Informação e resumo do pacote                      |\n",
    "| `yum install [package]`     | Install a package with YUM              | Instalar um pacote com YUM                         |\n",
    "| `yum search [package]`      | Find a package by a keyword             | Encontrar um pacote por uma palavra-chave          |\n"
   ]
  },
  {
   "cell_type": "markdown",
   "metadata": {},
   "source": [
    "## 8. Gerenciamento de Sistema\n",
    "\n",
    "| Comando                | Descrição em Inglês                   | Descrição em Português                              |\n",
    "|------------------------|---------------------------------------|-----------------------------------------------------|\n",
    "| `cat`                  | Show current day and month            | Mostrar dia e mês atuais                            |\n",
    "| `date`                 | Show current time and date            | Mostrar hora e data atuais                          |\n",
    "| `finger [username]`    | Show user information                 | Mostrar informações do usuário                      |\n",
    "| `hostname`             | Show system hostname                  | Mostrar nome do host do sistema                     |\n",
    "| `hostname -I`          | Show System IP address                | Mostrar endereço IP do sistema                      |\n",
    "| `last reboot`          | Show reboot history                   | Mostrar histórico de reinicialização                |\n",
    "| `modprobe [module-name]`| Add a new kernel module              | Adicionar um novo módulo do kernel                  |\n",
    "| `shutdown [h:mm]`      | Schedule a system shut down           | Agendar desligamento do sistema                     |\n",
    "| `shutdown now`         | Shut down immediately                 | Desligar imediatamente                              |\n",
    "| `ulimit [tags][limit]` | Manage the system clock               | Gerenciar o relógio do sistema                      |\n",
    "| `uname -a`             | Show kernel release info              | Mostrar informações de lançamento do kernel         |\n",
    "| `uname -r`             | Show system information               | Mostrar informações do sistema                      |\n",
    "| `uptime`               | Show uptime length/avg load           | Mostrar tempo de atividade/carga média              |\n",
    "| `whoami`               | Show the current user                 | Mostrar o usuário atual                             |\n"
   ]
  },
  {
   "cell_type": "markdown",
   "metadata": {},
   "source": [
    "## 9. Permissões de Arquivo\n",
    "\n",
    "| Comando          | Descrição em Inglês                             | Descrição em Português                                   |\n",
    "|------------------|-------------------------------------------------|----------------------------------------------------------|\n",
    "| `chmod 755 [file]` | Full permission to owner; read permissions for others | Permissão total para o proprietário; permissão de leitura para outros |\n",
    "| `chmod 766 [file]` | Full permission to owner; read and write for others  | Permissão total para o proprietário; leitura e escrita para outros  |\n",
    "| `chmod 777 [file]` | Full read, write, execute permissions to everyone  | Permissão total de leitura, escrita e execução para todos           |\n",
    "| `chown [user][file]` | Change file ownership                            | Mudar a propriedade do arquivo                                     |\n",
    "| `chown [user][group][file]` | Change file owner and group                    | Mudar o proprietário do arquivo e grupo                            |\n"
   ]
  },
  {
   "cell_type": "markdown",
   "metadata": {},
   "source": [
    "## 10. Login SSH\n",
    "\n",
    "| Comando           | Descrição em Inglês                       | Descrição em Português                               |\n",
    "|-------------------|-------------------------------------------|------------------------------------------------------|\n",
    "| `ssh [user]@[host]`| Connect to host as user                  | Conectar ao host como usuário                        |\n",
    "| `ssh [host]`       | Connect to host via port 22              | Conectar ao host via porta 22                        |\n",
    "| `telnet [host]`    | Connect to Telnet via port 23            | Conectar ao Telnet via porta 23                      |\n",
    "| `ssh -p [port][user]@[host]`| Use a non-default port           | Usar uma porta não padrão                            |\n"
   ]
  },
  {
   "cell_type": "markdown",
   "metadata": {},
   "source": [
    "## 11. Variáveis Bash\n",
    "\n",
    "| Comando             | Descrição em Inglês                       | Descrição em Português                                 |\n",
    "|---------------------|-------------------------------------------|--------------------------------------------------------|\n",
    "| `declare [variable]=[value]` | Declare a Bash variable          | Declarar uma variável Bash                             |\n",
    "| `echo $[variable]`  | Display value of the variable             | Exibir valor da variável                               |\n",
    "| `export [variable]` | Export a Bash variable                    | Exportar uma variável Bash                             |\n",
    "| `let [variable]=[value]` | Assign integer value to var          | Atribuir valor inteiro à variável                      |\n",
    "| `set`               | List variables and functions              | Listar variáveis e funções                             |\n"
   ]
  },
  {
   "cell_type": "markdown",
   "metadata": {},
   "source": [
    "## 12. Transferência de Arquivos\n",
    "\n",
    "| Comando         | Descrição em Inglês                | Descrição em Português                                 |\n",
    "|-----------------|------------------------------------|--------------------------------------------------------|\n",
    "| `scp [file.txt][server:/tmp]` | Securely transfer a file   | Transferir um arquivo de forma segura                  |\n",
    "| `rsync -a /location/ /backup/` | Sync the contents of a location with the backup directory | Sincronizar os conteúdos de uma localização com o diretório de backup |\n"
   ]
  },
  {
   "cell_type": "markdown",
   "metadata": {},
   "source": [
    "## 13. Uso de Disco\n",
    "\n",
    "| Comando        | Descrição em Inglês                        | Descrição em Português                                   |\n",
    "|----------------|--------------------------------------------|----------------------------------------------------------|\n",
    "| `fdisk -l`     | Disk partition types and sizes             | Tipos e tamanhos de partições de disco                   |\n",
    "| `df -h`        | Show free space on system                  | Mostrar espaço livre no sistema                          |\n",
    "| `du -ah`       | Show disk usage for all files              | Mostrar uso do disco para todos os arquivos              |\n",
    "| `du -sh`       | Show disk usage for current directory      | Mostrar uso do disco para o diretório atual              |\n",
    "| `findmnt`      | Show target mount point                    | Mostrar ponto de montagem alvo                           |\n",
    "| `mount [device][mount point]` | Mount a device               | Montar um dispositivo                                    |\n"
   ]
  },
  {
   "cell_type": "markdown",
   "metadata": {},
   "source": [
    "## 14. Processos Relacionados\n",
    "\n",
    "| Comando          | Descrição em Inglês                           | Descrição em Português                                   |\n",
    "|------------------|-----------------------------------------------|----------------------------------------------------------|\n",
    "| `bg`             | List background processes                     | Listar processos em segundo plano                        |\n",
    "| `clear`          | Clear terminal screen                         | Limpar a tela do terminal                                |\n",
    "| `fg [job]`       | Bring job to foreground                       | Trazer trabalho para o primeiro plano                    |\n",
    "| `kill [process_id]` | Kill the process by ID                     | Matar o processo pelo ID                                 |\n",
    "| `pkill [process_name]` | Kill the process by name                | Matar o processo pelo nome                               |\n",
    "| `killall [process_name]` | Kill all processes by name           | Matar todos os processos pelo nome                        |\n",
    "| `lsof`           | List files opened by processes                | Listar arquivos abertos por processos                    |\n",
    "| `ps`             | Show active process snapshot                  | Mostrar instantâneo de processos ativos                  |\n",
    "| `pstree`         | Show processes as a tree                      | Mostrar processos em forma de árvore                     |\n",
    "| `top`            | Show all running processes                    | Mostrar todos os processos em execução                   |\n",
    "| `wait`           | Pause terminal until process completes        | Pausar terminal até que o processo seja completado       |\n",
    "| `nice`           | Start a process with a given priority         | Iniciar um processo com uma prioridade dada              |\n",
    "| `fg`             | Most recent suspended job to foreground       | Trabalho suspenso mais recente para o primeiro plano     |\n",
    "| `ps PID`         | Give the status of a particular process       | Dar o status de um processo específico                   |\n",
    "| `renice`         | Change priority of a running process          | Mudar a prioridade de um processo em execução            |\n"
   ]
  },
  {
   "cell_type": "markdown",
   "metadata": {},
   "source": [
    "## 15. Comandos de Shell\n",
    "\n",
    "| Comando          | Descrição em Inglês                          | Descrição em Português                                   |\n",
    "|------------------|----------------------------------------------|----------------------------------------------------------|\n",
    "| `alias [alias]='[command]'` | Create command alias            | Criar um alias para comando                              |\n",
    "| `at [hh:mm]`     | Schedule a job                               | Agendar um trabalho                                      |\n",
    "| `history`        | Print command history                        | Imprimir histórico de comandos                           |\n",
    "| `jobs`           | Display current jobs & status                | Mostrar trabalhos atuais e seu status                    |\n",
    "| `man [command]`  | Display command manual                       | Exibir manual de comando                                 |\n",
    "| `unalias`        | Remove an alias                              | Remover um alias                                         |\n",
    "| `watch -n [interval] [command]` | Set interval to run a command | Definir intervalo para executar um comando               |\n",
    "| `sleep [interval] && [command]` | Postpone command execution   | Adiar execução de comando                                |\n"
   ]
  },
  {
   "cell_type": "markdown",
   "metadata": {},
   "source": [
    "## 16. Atalhos de Teclado\n",
    "\n",
    "| Atalho           | Ação                                         |\n",
    "|------------------|----------------------------------------------|\n",
    "| `!!`             | Repeat the last command                      |\n",
    "| `exit`           | Log out of the session                       |\n",
    "| `Ctrl + C`       | Kill current process                         |\n",
    "| `Ctrl + G`       | Exit command history                         |\n",
    "| `Ctrl + K`       | Cut part of the line after the cursor         |\n",
    "| `Ctrl + O`       | Run the recalled command                     |\n",
    "| `Ctrl + R`       | Recall last command                          |\n",
    "| `Ctrl + U`       | Cut part of the line before the cursor       |\n",
    "| `Ctrl + W`       | Cut the word before the cursor               |\n",
    "| `Ctrl + Y`       | Paste from clipboard                         |\n",
    "| `Ctrl + Z`       | Stop process (can be resumed)                |\n",
    "| `Ctrl + Alt + F7`| Switch to the first graphical terminal       |\n",
    "| `Ctrl + Alt + F10`| Switch to a virtual console                 |\n"
   ]
  },
  {
   "cell_type": "markdown",
   "metadata": {
    "vscode": {
     "languageId": "plaintext"
    }
   },
   "source": [
    "## Referências\n",
    "\n",
    "[1] OPENAI. ***Comandos Linux traduzidos.*** Disponível em: <https://chat.openai.com/c/b315251f-5bf4-48bb-8c0b-d306db412439> (texto adaptado). Acessado em: 02/04/2023 17:11.\n",
    "\n",
    "[2] OPENAI. ***Vs code: editor popular.*** Disponível em: <https://chat.openai.com/c/b640a25d-f8e3-4922-8a3b-ed74a2657e42> (texto adaptado). Acessado em: 02/04/2024 17:10.\n"
   ]
  }
 ],
 "metadata": {
  "kernelspec": {
   "display_name": "Python 3",
   "language": "python",
   "name": "python3"
  },
  "language_info": {
   "codemirror_mode": {
    "name": "ipython",
    "version": 3
   },
   "file_extension": ".py",
   "mimetype": "text/x-python",
   "name": "python",
   "nbconvert_exporter": "python",
   "pygments_lexer": "ipython3",
   "version": "3.10.12"
  },
  "orig_nbformat": 4
 },
 "nbformat": 4,
 "nbformat_minor": 2
}
