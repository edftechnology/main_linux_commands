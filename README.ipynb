{
 "cells": [
  {
   "cell_type": "markdown",
   "metadata": {},
   "source": [
    "# Como configurar/instalar/usar o `Buscar palavra-chave` no `Linux Ubuntu`\n",
    "\n",
    "## Resumo\n",
    "\n",
    "Neste documento estão contidos os principais comandos e configurações para configurar/instalar/usar o `buscar palavra-chave em arquivo` no `Linux Ubuntu`.\n",
    "\n",
    "## _Abstract_\n",
    "\n",
    "_This document contains the main commands and settings for configuring/installing/using the `search for keyword in file` on `Linux Ubuntu`._\n"
   ]
  },
  {
   "cell_type": "markdown",
   "metadata": {},
   "source": [
    "## Descrição [2]\n",
    "\n",
    "### `palavra-chave`\n",
    "\n",
    "Uma palavra-chave é um termo ou expressão que representa um conceito central em um determinado contexto, como programação, marketing ou pesquisa. No âmbito da programação, palavras-chave são identificadores reservados que têm um significado específico na linguagem, como `if`, `else`, `for` e `function`, e não podem ser usados como nomes de variáveis ou funções. Em marketing digital e SEO, palavras-chave são os termos que os usuários digitam em mecanismos de busca e são fundamentais para otimizar conteúdos e aumentar a visibilidade online. Assim, as palavras-chave desempenham um papel crucial na comunicação, programação e busca de informações.\n"
   ]
  },
  {
   "cell_type": "markdown",
   "metadata": {},
   "source": [
    "## 1. Como configurar/instalar/usar o `Buscar palavra-chave em arquivo` no `Linux Ubuntu` [1][3]\n",
    "\n",
    "Para configurar/instalar/usar o `Buscar palavra-chave em arquivo` no `Linux Ubuntu`, você pode seguir estes passos:\n",
    "\n",
    "1. Abra o `Terminal Emulator`. Você pode fazer isso pressionando: `Ctrl + Alt + T`"
   ]
  },
  {
   "cell_type": "markdown",
   "metadata": {},
   "source": [
    "2. Certifique-se de que seu sistema esteja limpo e atualizado.\n",
    "\n",
    "    2.1 **Limpar o `cache` do gerenciador de pacotes `apt`**: Especificamente, ele remove todos os arquivos de pacotes (`.deb`) baixados pelo `apt` e armazenados em `/var/cache/apt/archives/`. Digite o seguinte comando: `sudo apt clean` \n",
    "    \n",
    "    2.2 **Remover pacotes `.deb` antigos ou duplicados do `cache` local**: É útil para liberar espaço, pois remove apenas os pacotes que não podem mais ser baixados (ou seja, versões antigas de pacotes que foram atualizados). Digite o seguinte comando: `sudo apt autoclean`\n",
    "\n",
    "    2.3 **Remover pacotes que foram automaticamente instalados para satisfazer as dependências de outros pacotes e que não são mais necessários**: Digite o seguinte comando: `sudo apt autoremove -y`\n",
    "\n",
    "    2.4 **Buscar as atualizações disponíveis para os pacotes que estão instalados em seu sistema**: Digite o seguinte comando e pressione `Enter`: `sudo apt update`\n",
    "\n",
    "    2.5 **Corrigir pacotes quebrados**: Isso atualizará a lista de pacotes disponíveis e tentará corrigir pacotes quebrados ou com dependências ausentes: `sudo apt --fix-broken install`\n",
    "\n",
    "    2.6 **Limpar o `cache` do gerenciador de pacotes `apt`**: Especificamente, ele remove todos os arquivos de pacotes (`.deb`) baixados pelo `apt` e armazenados em `/var/cache/apt/archives/`. Digite o seguinte comando: `sudo apt clean` \n",
    "    \n",
    "    2.7 **Para ver a lista de pacotes a serem atualizados**: Digite o seguinte comando e pressione `Enter`:  `sudo apt list --upgradable`\n",
    "\n",
    "    2.8 **Realmente atualizar os pacotes instalados para as suas versões mais recentes, com base na última vez que você executou `sudo apt update`**: Digite o seguinte comando e pressione `Enter`: `sudo apt full-upgrade -y`\n",
    "   "
   ]
  },
  {
   "cell_type": "markdown",
   "metadata": {},
   "source": [
    "Para procurar uma palavra-chave ou texto em arquivos no seu sistema `Linux` (`Ubuntu` ou outras distribuições), você pode usar o comando `grep`. Aqui estão algumas maneiras de usar o grep para fazer isso:\n",
    "\n",
    "1. **Procurar em um arquivo específico**: Isso vai procurar a palavra no arquivo especificado:\n",
    "\n",
    "    ```\n",
    "    sudo grep \"palavra-chave\" nome_do_arquivo\n",
    "    ```\n",
    "\n",
    "2. **Procurar em múltiplos arquivos**: Isso permite procurar a palavra em mais de um arquivo ao mesmo tempo:\n",
    "\n",
    "    ```\n",
    "    sudo grep \"palavra-chave\" arquivo1 arquivo2 arquivo3\n",
    "    ```\n",
    "\n",
    "3. **Procurar recursivamente em um diretório**: Se você deseja procurar por uma palavra em todos os arquivos dentro de um diretório e seus subdiretórios:\n",
    "\n",
    "    ```\n",
    "    sudo grep -r \"palavra-chave\" /caminho/do/diretório\n",
    "    ```\n",
    "\n",
    "4. **Procurar apenas arquivos que correspondem ao texto**: Caso queira que a busca seja recursiva e ver apenas o nome dos arquivos que contêm a palavra procurada, use a opção `-l`:\n",
    "\n",
    "    ```\n",
    "    sudo grep -rl \"palavra-chave\" /caminho/do/diretório\n",
    "    ```\n",
    "\n",
    "5. **Ignorar a diferenciação entre maiúsculas e minúsculas**: Se você deseja que a busca seja recursível e insensível a maiúsculas/minúsculas, adicione a opção `-i`:\n",
    "\n",
    "    ```\n",
    "    sudo grep -ri \"palavra-chave\" /caminho/do/diretório\n",
    "    ```\n",
    "\n",
    "6. **Mostrar número das linhas**: Para exibir o número da linha onde a palavra foi encontrada:\n",
    "\n",
    "    ```\n",
    "    sudo grep -n \"palavra-chave\" nome_do_arquivo\n",
    "    ```\n",
    "\n",
    "Essas são formas comuns de usar o `grep` para buscar palavras no seu sistema."
   ]
  },
  {
   "cell_type": "markdown",
   "metadata": {
    "vscode": {
     "languageId": "plaintext"
    }
   },
   "source": [
    "### 1.1 Código completo para configurar/instalar/usar\n",
    "\n",
    "Para configurar/instalar/usar o `Linux Cheat Sheet` no `Linux Ubuntu` sem precisar digitar linha por linha, você pode seguir estas etapas:\n",
    "\n",
    "1. Abra o `Terminal Emulator`. Você pode fazer isso pressionando: `Ctrl + Alt + T`\n",
    "\n",
    "2. Digite o seguinte comando e pressione `Enter`:\n",
    "\n",
    "    ```\n",
    "    NÃO há.\n",
    "    ```\n"
   ]
  },
  {
   "cell_type": "markdown",
   "metadata": {
    "vscode": {
     "languageId": "plaintext"
    }
   },
   "source": [
    "## 2. Rede\n",
    "\n",
    "| Comando        | Descrição em Inglês                 | Descrição em Português                      |\n",
    "|----------------|-------------------------------------|---------------------------------------------|\n",
    "| `dig -x [ip]`  | IP address reverse lookup          | Consulta reversa de endereço IP             |\n",
    "| `dig -x [host]`| Domain reverse lookup              | Consulta reversa de domínio                 |\n",
    "| `dig [domain]` | Show domain's DNS info             | Mostrar informações de DNS do domínio       |\n",
    "| `get [file]`   | Download a file from remote to local| Baixar um arquivo de remoto para local     |\n",
    "| `host [domain]`| IP lookup for a domain             | Consulta de IP para um domínio              |\n",
    "| `curl -O [file_url]`| Download a file from url      | Baixar um arquivo de uma URL                |\n",
    "| `ifconfig`     | Show all network interfaces        | Mostrar todas as interfaces de rede         |\n",
    "| `ip addr show` | Show IP addresses                  | Mostrar endereços IP                        |\n",
    "| `ip address add [ip]`| Assign IP address to interface| Atribuir endereço IP à interface            |\n",
    "| `netstat -pntlu`| Show active listening ports       | Mostrar portas ativas de escuta             |\n",
    "| `nslookup [domain]`| Network information            | Informação de rede                          |\n",
    "| `ping [hostname]`| Check network status             | Verificar status da rede                    |\n",
    "| `put [file]`   | Upload file from local to remote computer| Enviar arquivo de local para remoto     |\n",
    "| `quit`         | Logout                             | Sair                                         |\n",
    "| `wget [file_url]`| Download a file from url         | Baixar um arquivo de uma URL                |\n",
    "| `whois [domain]`| Show domain information           | Mostrar informações do domínio              |\n"
   ]
  },
  {
   "cell_type": "markdown",
   "metadata": {
    "vscode": {
     "languageId": "plaintext"
    }
   },
   "source": [
    "## 3. Comandos de usuários e grupos\n",
    "\n",
    "| Comando         | Descrição em Inglês            | Descrição em Português                 |\n",
    "|-----------------|--------------------------------|----------------------------------------|\n",
    "| `adduser [user]`| Add a new user                 | Adicionar um novo usuário              |\n",
    "| `chgrp [group] [directory]`| Change directory group | Mudar grupo de diretório          |\n",
    "| `groupadd [group]`| Add a new group              | Adicionar um novo grupo                |\n",
    "| `id`            | Show active user details       | Mostrar detalhes do usuário ativo      |\n",
    "| `last`          | Show last system logins        | Mostrar últimas entradas no sistema    |\n",
    "| `passwd [username]`| Change the password for the user | Mudar a senha do usuário        |\n",
    "| `userdel [user]`| Delete a user                  | Excluir um usuário                     |\n",
    "| `usermod`       | Modify user information        | Modificar informações de um usuário    |\n",
    "| `usermod -aG [group] [user]` | Add user to group | Adicionar usuário a um grupo         |\n",
    "| `w`             | Show logged users and activity | Mostrar usuários logados e atividade   |\n",
    "| `who`           | Show who is logged in          | Mostrar quem está logado               |\n"
   ]
  },
  {
   "cell_type": "markdown",
   "metadata": {
    "vscode": {
     "languageId": "plaintext"
    }
   },
   "source": [
    "## 4. Comandos de Navegação de Diretórios\n",
    "\n",
    "| Comando         | Descrição em Inglês             | Descrição em Português                |\n",
    "|-----------------|---------------------------------|---------------------------------------|\n",
    "| `cd`            | Move up one level               | Subir um nível                        |\n",
    "| `cd`            | Change directory to $HOME       | Mudar diretório para o $HOME          |\n",
    "| `cd [location]` | Change to specified directory   | Mudar para o diretório especificado   |\n"
   ]
  },
  {
   "cell_type": "markdown",
   "metadata": {
    "vscode": {
     "languageId": "plaintext"
    }
   },
   "source": [
    "## 5. Informações de Hardware\n",
    "\n",
    "| Comando          | Descrição em Inglês               | Descrição em Português                  |\n",
    "|------------------|-----------------------------------|-----------------------------------------|\n",
    "| `cat /proc/cpuinfo`| Show CPU information            | Mostrar informações da CPU              |\n",
    "| `dmesg`          | Show bootup messages              | Mostrar mensagens de inicialização      |\n",
    "| `dmidecode`      | Show BIOS hardware info           | Mostrar informações de hardware da BIOS |\n",
    "| `free -h`        | Show free and used memory         | Mostrar memória livre e usada           |\n",
    "| `lsblk`          | Block devices info                | Informações de dispositivos de bloco    |\n",
    "| `lshw`           | Hardware configuration info       | Informações de configuração de hardware |\n",
    "| `lsusb -tv`      | Tree-diagram of USB devices       | Diagrama em árvore dos dispositivos USB |\n",
    "| `neofetch`       | Display OS & hardware info        | Mostrar informações do SO e hardware    |\n",
    "| `hdparm -i /dev/[disk]`| Show disk data info         | Mostrar informações de dados do disco   |\n",
    "| `hdparm -Tt /dev/[disk]`| Disk read speed test       | Teste de velocidade de leitura do disco |\n",
    "| `badblocks -s /dev/[disk]`| Unreadable blocks test   | Teste de blocos ilegíveis               |\n"
   ]
  },
  {
   "cell_type": "markdown",
   "metadata": {
    "vscode": {
     "languageId": "plaintext"
    }
   },
   "source": [
    "## 6. Compressão de Arquivos\n",
    "\n",
    "| Comando               | Descrição em Inglês                 | Descrição em Português                  |\n",
    "|-----------------------|-------------------------------------|-----------------------------------------|\n",
    "| `gzip [file]`         | Create a gz compressed file         | Criar um arquivo comprimido gz          |\n",
    "| `tar xf [file.tar]`   | Extract archived file               | Extrair arquivo arquivado               |\n",
    "| `zip`/`unzip`         | Package & compress files            | Empacotar e comprimir arquivos          |\n",
    "| `tar cf [file.tar] [file]`| Create a tar file from a file  | Criar um arquivo tar a partir de um arquivo|\n",
    "| `tar czf [file.tar.gz]`| Create a gzip tar file            | Criar um arquivo tar gzip               |\n"
   ]
  },
  {
   "cell_type": "markdown",
   "metadata": {},
   "source": [
    "## 7. Instalação de Pacotes\n",
    "\n",
    "| Comando                     | Descrição em Inglês                    | Descrição em Português                             |\n",
    "|-----------------------------|----------------------------------------|----------------------------------------------------|\n",
    "| `apt-get`                   | Search for and install software packages | Pesquisar e instalar pacotes de software          |\n",
    "| `apt install [package]`     | Install a package with APT              | Instalar um pacote com APT                         |\n",
    "| `dnf install [package.rpm]` | Install a package with DNF              | Instalar um pacote com DNF                         |\n",
    "| `rpm -e [package.rpm]`      | Remove an rpm package                   | Remover um pacote rpm                              |\n",
    "| `rpm -ivh [package.rpm]`    | Install a local rpm package             | Instalar um pacote rpm local                       |\n",
    "| `yum info [package]`        | Package info & summary                  | Informação e resumo do pacote                      |\n",
    "| `yum install [package]`     | Install a package with YUM              | Instalar um pacote com YUM                         |\n",
    "| `yum search [package]`      | Find a package by a keyword             | Encontrar um pacote por uma palavra-chave          |\n"
   ]
  },
  {
   "cell_type": "markdown",
   "metadata": {},
   "source": [
    "## 8. Gerenciamento de Sistema\n",
    "\n",
    "| Comando                | Descrição em Inglês                   | Descrição em Português                              |\n",
    "|------------------------|---------------------------------------|-----------------------------------------------------|\n",
    "| `cat`                  | Show current day and month            | Mostrar dia e mês atuais                            |\n",
    "| `date`                 | Show current time and date            | Mostrar hora e data atuais                          |\n",
    "| `finger [username]`    | Show user information                 | Mostrar informações do usuário                      |\n",
    "| `hostname`             | Show system hostname                  | Mostrar nome do host do sistema                     |\n",
    "| `hostname -I`          | Show System IP address                | Mostrar endereço IP do sistema                      |\n",
    "| `last reboot`          | Show reboot history                   | Mostrar histórico de reinicialização                |\n",
    "| `modprobe [module-name]`| Add a new kernel module              | Adicionar um novo módulo do kernel                  |\n",
    "| `shutdown [h:mm]`      | Schedule a system shut down           | Agendar desligamento do sistema                     |\n",
    "| `shutdown now`         | Shut down immediately                 | Desligar imediatamente                              |\n",
    "| `ulimit [tags][limit]` | Manage the system clock               | Gerenciar o relógio do sistema                      |\n",
    "| `uname -a`             | Show kernel release info              | Mostrar informações de lançamento do kernel         |\n",
    "| `uname -r`             | Show system information               | Mostrar informações do sistema                      |\n",
    "| `uptime`               | Show uptime length/avg load           | Mostrar tempo de atividade/carga média              |\n",
    "| `whoami`               | Show the current user                 | Mostrar o usuário atual                             |\n"
   ]
  },
  {
   "cell_type": "markdown",
   "metadata": {},
   "source": [
    "## 9. Permissões de Arquivo\n",
    "\n",
    "| Comando          | Descrição em Inglês                             | Descrição em Português                                   |\n",
    "|------------------|-------------------------------------------------|----------------------------------------------------------|\n",
    "| `chmod 755 [file]` | Full permission to owner; read permissions for others | Permissão total para o proprietário; permissão de leitura para outros |\n",
    "| `chmod 766 [file]` | Full permission to owner; read and write for others  | Permissão total para o proprietário; leitura e escrita para outros  |\n",
    "| `chmod 777 [file]` | Full read, write, execute permissions to everyone  | Permissão total de leitura, escrita e execução para todos           |\n",
    "| `chown [user][file]` | Change file ownership                            | Mudar a propriedade do arquivo                                     |\n",
    "| `chown [user][group][file]` | Change file owner and group                    | Mudar o proprietário do arquivo e grupo                            |\n"
   ]
  },
  {
   "cell_type": "markdown",
   "metadata": {},
   "source": [
    "## 10. Login SSH\n",
    "\n",
    "| Comando           | Descrição em Inglês                       | Descrição em Português                               |\n",
    "|-------------------|-------------------------------------------|------------------------------------------------------|\n",
    "| `ssh [user]@[host]`| Connect to host as user                  | Conectar ao host como usuário                        |\n",
    "| `ssh [host]`       | Connect to host via port 22              | Conectar ao host via porta 22                        |\n",
    "| `telnet [host]`    | Connect to Telnet via port 23            | Conectar ao Telnet via porta 23                      |\n",
    "| `ssh -p [port][user]@[host]`| Use a non-default port           | Usar uma porta não padrão                            |\n"
   ]
  },
  {
   "cell_type": "markdown",
   "metadata": {},
   "source": [
    "## 11. Variáveis Bash\n",
    "\n",
    "| Comando             | Descrição em Inglês                       | Descrição em Português                                 |\n",
    "|---------------------|-------------------------------------------|--------------------------------------------------------|\n",
    "| `declare [variable]=[value]` | Declare a Bash variable          | Declarar uma variável Bash                             |\n",
    "| `echo $[variable]`  | Display value of the variable             | Exibir valor da variável                               |\n",
    "| `export [variable]` | Export a Bash variable                    | Exportar uma variável Bash                             |\n",
    "| `let [variable]=[value]` | Assign integer value to var          | Atribuir valor inteiro à variável                      |\n",
    "| `set`               | List variables and functions              | Listar variáveis e funções                             |\n"
   ]
  },
  {
   "cell_type": "markdown",
   "metadata": {},
   "source": [
    "## 12. Transferência de Arquivos\n",
    "\n",
    "| Comando         | Descrição em Inglês                | Descrição em Português                                 |\n",
    "|-----------------|------------------------------------|--------------------------------------------------------|\n",
    "| `scp [file.txt][server:/tmp]` | Securely transfer a file   | Transferir um arquivo de forma segura                  |\n",
    "| `rsync -a /location/ /backup/` | Sync the contents of a location with the backup directory | Sincronizar os conteúdos de uma localização com o diretório de backup |\n"
   ]
  },
  {
   "cell_type": "markdown",
   "metadata": {},
   "source": [
    "## 13. Uso de Disco\n",
    "\n",
    "| Comando        | Descrição em Inglês                        | Descrição em Português                                   |\n",
    "|----------------|--------------------------------------------|----------------------------------------------------------|\n",
    "| `fdisk -l`     | Disk partition types and sizes             | Tipos e tamanhos de partições de disco                   |\n",
    "| `df -h`        | Show free space on system                  | Mostrar espaço livre no sistema                          |\n",
    "| `du -ah`       | Show disk usage for all files              | Mostrar uso do disco para todos os arquivos              |\n",
    "| `du -sh`       | Show disk usage for current directory      | Mostrar uso do disco para o diretório atual              |\n",
    "| `findmnt`      | Show target mount point                    | Mostrar ponto de montagem alvo                           |\n",
    "| `mount [device][mount point]` | Mount a device               | Montar um dispositivo                                    |\n"
   ]
  },
  {
   "cell_type": "markdown",
   "metadata": {},
   "source": [
    "## 14. Processos Relacionados\n",
    "\n",
    "| Comando          | Descrição em Inglês                           | Descrição em Português                                   |\n",
    "|------------------|-----------------------------------------------|----------------------------------------------------------|\n",
    "| `bg`             | List background processes                     | Listar processos em segundo plano                        |\n",
    "| `clear`          | Clear terminal screen                         | Limpar a tela do terminal                                |\n",
    "| `fg [job]`       | Bring job to foreground                       | Trazer trabalho para o primeiro plano                    |\n",
    "| `kill [process_id]` | Kill the process by ID                     | Matar o processo pelo ID                                 |\n",
    "| `pkill [process_name]` | Kill the process by name                | Matar o processo pelo nome                               |\n",
    "| `killall [process_name]` | Kill all processes by name           | Matar todos os processos pelo nome                        |\n",
    "| `lsof`           | List files opened by processes                | Listar arquivos abertos por processos                    |\n",
    "| `ps`             | Show active process snapshot                  | Mostrar instantâneo de processos ativos                  |\n",
    "| `pstree`         | Show processes as a tree                      | Mostrar processos em forma de árvore                     |\n",
    "| `top`            | Show all running processes                    | Mostrar todos os processos em execução                   |\n",
    "| `wait`           | Pause terminal until process completes        | Pausar terminal até que o processo seja completado       |\n",
    "| `nice`           | Start a process with a given priority         | Iniciar um processo com uma prioridade dada              |\n",
    "| `fg`             | Most recent suspended job to foreground       | Trabalho suspenso mais recente para o primeiro plano     |\n",
    "| `ps PID`         | Give the status of a particular process       | Dar o status de um processo específico                   |\n",
    "| `renice`         | Change priority of a running process          | Mudar a prioridade de um processo em execução            |\n"
   ]
  },
  {
   "cell_type": "markdown",
   "metadata": {},
   "source": [
    "## 15. Comandos de Shell\n",
    "\n",
    "| Comando          | Descrição em Inglês                          | Descrição em Português                                   |\n",
    "|------------------|----------------------------------------------|----------------------------------------------------------|\n",
    "| `alias [alias]='[command]'` | Create command alias            | Criar um alias para comando                              |\n",
    "| `at [hh:mm]`     | Schedule a job                               | Agendar um trabalho                                      |\n",
    "| `history`        | Print command history                        | Imprimir histórico de comandos                           |\n",
    "| `jobs`           | Display current jobs & status                | Mostrar trabalhos atuais e seu status                    |\n",
    "| `man [command]`  | Display command manual                       | Exibir manual de comando                                 |\n",
    "| `unalias`        | Remove an alias                              | Remover um alias                                         |\n",
    "| `watch -n [interval] [command]` | Set interval to run a command | Definir intervalo para executar um comando               |\n",
    "| `sleep [interval] && [command]` | Postpone command execution   | Adiar execução de comando                                |\n"
   ]
  },
  {
   "cell_type": "markdown",
   "metadata": {},
   "source": [
    "## 16. Atalhos de Teclado\n",
    "\n",
    "| Atalho           | Ação                                         |\n",
    "|------------------|----------------------------------------------|\n",
    "| `!!`             | Repeat the last command                      |\n",
    "| `exit`           | Log out of the session                       |\n",
    "| `Ctrl + C`       | Kill current process                         |\n",
    "| `Ctrl + G`       | Exit command history                         |\n",
    "| `Ctrl + K`       | Cut part of the line after the cursor         |\n",
    "| `Ctrl + O`       | Run the recalled command                     |\n",
    "| `Ctrl + R`       | Recall last command                          |\n",
    "| `Ctrl + U`       | Cut part of the line before the cursor       |\n",
    "| `Ctrl + W`       | Cut the word before the cursor               |\n",
    "| `Ctrl + Y`       | Paste from clipboard                         |\n",
    "| `Ctrl + Z`       | Stop process (can be resumed)                |\n",
    "| `Ctrl + Alt + F7`| Switch to the first graphical terminal       |\n",
    "| `Ctrl + Alt + F10`| Switch to a virtual console                 |\n"
   ]
  },
  {
   "cell_type": "markdown",
   "metadata": {},
   "source": [
    "## 17. Linux Cheat Sheet Aliases\n",
    "\n",
    "1. **Abrir o `Terminal Emulator`**: `Ctrl + Alt + T`\n",
    "\n",
    "2. **Abrir o arquivo `source` do `Terminal Emulator`**:\n",
    "\n",
    "```bash\n",
    "sudo nano ~/.zshrc\n",
    "```\n",
    "\n",
    "Substitua `zshrc` por `bashrc` caso você use o `bash`.\n"
   ]
  },
  {
   "cell_type": "markdown",
   "metadata": {},
   "source": [
    "3. **Copiar e colar o código abaixo**:\n",
    "\n",
    "```bash\n",
    "# =========================\n",
    "#  Linux Cheat Sheet Aliases\n",
    "# =========================\n",
    "\n",
    "# ---- PRINCIPAIS ALIASES ----\n",
    "alias ls='ls -alF'\n",
    "alias mkdir='mkdir -pv'\n",
    "alias tree='tree -alF'\n",
    "\n",
    "# ---- Atualização e Limpeza do Sistema ----\n",
    "alias update='sudo apt update && sudo apt list --upgradable && sudo apt full-upgrade -y'\n",
    "alias cleanapt='sudo apt clean && sudo apt autoclean && sudo apt autoremove -y'\n",
    "\n",
    "# ---- Navegação Rápida ----\n",
    "alias home='cd ~'\n",
    "alias docs='cd ~/Documents'\n",
    "alias desk='cd ~/Desktop'\n",
    "\n",
    "# ---- Listagem de Arquivos e Pastas ----\n",
    "alias ll='ls -alF --color=auto'\n",
    "alias la='ls -A --color=auto'\n",
    "alias l='ls -CF --color=auto'\n",
    "\n",
    "# ---- Busca e Inspeção ----\n",
    "alias grep='grep --color=auto'\n",
    "alias finddir='find . -type d -name'\n",
    "alias findfile='find . -type f -name'\n",
    "\n",
    "# ---- Monitoramento de Sistema ----\n",
    "alias meminfo='free -h'\n",
    "alias cpuinfo='lscpu'\n",
    "alias diskuse='df -h'\n",
    "alias proc='ps aux --sort=-%mem | head'\n",
    "alias topcpu='ps -eo pid,ppid,cmd,%mem,%cpu --sort=-%cpu | head'\n",
    "\n",
    "# ---- Rede ----\n",
    "alias myip='hostname -I'\n",
    "alias pingg='ping google.com'\n",
    "alias netlisten='netstat -pntlu'\n",
    "\n",
    "# ---- Transferência de Arquivos ----\n",
    "alias scpup='scp'\n",
    "alias rsyncup='rsync -avz'\n",
    "\n",
    "# ---- Informações de Hardware ----\n",
    "alias usbinfo='lsusb'\n",
    "alias pciinfo='lspci'\n",
    "alias diskinfo='lsblk'\n",
    "alias cpumodel='cat /proc/cpuinfo | grep \"model name\" | uniq'\n",
    "\n",
    "# ---- Processos ----\n",
    "alias killpid='kill -9'\n",
    "alias psgrep='ps aux | grep -i'\n",
    "\n",
    "# ---- Uso de Disco ----\n",
    "alias diskfree='df -h'\n",
    "alias diskdu='du -sh * 2>/dev/null'\n",
    "\n",
    "# ---- Segurança ----\n",
    "alias sshcon='ssh'\n",
    "alias sftpcon='sftp'\n",
    "```\n"
   ]
  },
  {
   "cell_type": "markdown",
   "metadata": {
    "vscode": {
     "languageId": "plaintext"
    }
   },
   "source": [
    "4. Atualizar o `source` do `Terminal`:\n",
    "\n",
    "```bash\n",
    "source ~/.zshrc\n",
    "```\n",
    "\n",
    "Substitua `zshrc` por `bashrc` caso você use o `bash`."
   ]
  },
  {
   "cell_type": "markdown",
   "metadata": {
    "vscode": {
     "languageId": "plaintext"
    }
   },
   "source": [
    "## Referências\n",
    "\n",
    "[1] OPENAI. ***Buscar palavra-chave em arquivo.*** Disponível em: <https://chatgpt.com/c/66e99b91-aa6c-8002-9401-ccd319b980e3> (texto adaptado). Acessado em: 17/09/2024 15:35.\n",
    "\n",
    "[2] OPENAI. ***Vs code: editor popular.*** Disponível em: <https://chat.openai.com/c/b640a25d-f8e3-4922-8a3b-ed74a2657e42> (texto adaptado). Acessado em: 17/09/2024 15:35.\n"
   ]
  }
 ],
 "metadata": {
  "kernelspec": {
   "display_name": "Python 3",
   "language": "python",
   "name": "python3"
  },
  "language_info": {
   "codemirror_mode": {
    "name": "ipython",
    "version": 3
   },
   "file_extension": ".py",
   "mimetype": "text/x-python",
   "name": "python",
   "nbconvert_exporter": "python",
   "pygments_lexer": "ipython3",
   "version": "3.10.12"
  },
  "orig_nbformat": 4
 },
 "nbformat": 4,
 "nbformat_minor": 2
}
